{
  "nbformat": 4,
  "nbformat_minor": 0,
  "metadata": {
    "colab": {
      "provenance": []
    },
    "kernelspec": {
      "name": "python3",
      "display_name": "Python 3"
    },
    "language_info": {
      "name": "python"
    }
  },
  "cells": [
    {
      "cell_type": "code",
      "execution_count": null,
      "metadata": {
        "colab": {
          "base_uri": "https://localhost:8080/"
        },
        "id": "nEje8CcMEU8W",
        "outputId": "6b348e48-a208-4176-9d84-2f896fae54e9"
      },
      "outputs": [
        {
          "output_type": "stream",
          "name": "stdout",
          "text": [
            "Object Creation:\n",
            "Series:\n",
            "0    1.0\n",
            "1    3.0\n",
            "2    5.0\n",
            "3    NaN\n",
            "4    6.0\n",
            "5    8.0\n",
            "dtype: float64\n",
            "\n",
            "DataFrame:\n",
            "                   A         B         C         D\n",
            "2023-10-01  0.469489  0.794582  0.534555 -0.793645\n",
            "2023-10-02  0.701466  0.416296  0.956801  1.415470\n",
            "2023-10-03 -1.029723  0.462663  0.350164  2.039517\n",
            "2023-10-04 -0.217975  0.660138 -1.561781 -0.024357\n",
            "2023-10-05 -0.002008  0.442638 -0.399970 -0.052953\n",
            "2023-10-06 -0.310360  0.038163 -0.128527 -0.956572\n",
            "==================================================\n"
          ]
        }
      ],
      "source": [
        "import pandas as pd\n",
        "import numpy as np\n",
        "\n",
        "# Object Creation\n",
        "s = pd.Series([1, 3, 5, np.nan, 6, 8])\n",
        "dates = pd.date_range('2023-10-01', periods=6)\n",
        "df = pd.DataFrame(np.random.randn(6, 4), index=dates, columns=list('ABCD'))\n",
        "\n",
        "print(\"Object Creation:\")\n",
        "print(\"Series:\")\n",
        "print(s)\n",
        "print(\"\\nDataFrame:\")\n",
        "print(df)\n",
        "print(\"=\"*50)"
      ]
    },
    {
      "cell_type": "code",
      "source": [
        "# Viewing Data\n",
        "print(\"Viewing Data:\")\n",
        "print(\"First 3 rows:\")\n",
        "print(df.head(3))\n",
        "print(\"\\nLast 2 rows:\")\n",
        "print(df.tail(2))\n",
        "print(\"\\nIndex and Columns:\")\n",
        "print(df.index)\n",
        "print(df.columns)\n",
        "print(\"=\"*40)"
      ],
      "metadata": {
        "colab": {
          "base_uri": "https://localhost:8080/"
        },
        "id": "ihi8Zr3wFStz",
        "outputId": "88537b1f-7ae4-4320-f608-7cfda3cf7c57"
      },
      "execution_count": null,
      "outputs": [
        {
          "output_type": "stream",
          "name": "stdout",
          "text": [
            "Viewing Data:\n",
            "First 3 rows:\n",
            "                   A         B         C         D\n",
            "2023-10-01  0.469489  0.794582  0.534555 -0.793645\n",
            "2023-10-02  0.701466  0.416296  0.956801  1.415470\n",
            "2023-10-03 -1.029723  0.462663  0.350164  2.039517\n",
            "\n",
            "Last 2 rows:\n",
            "                   A         B         C         D\n",
            "2023-10-05 -0.002008  0.442638 -0.399970 -0.052953\n",
            "2023-10-06 -0.310360  0.038163 -0.128527 -0.956572\n",
            "\n",
            "Index and Columns:\n",
            "DatetimeIndex(['2023-10-01', '2023-10-02', '2023-10-03', '2023-10-04',\n",
            "               '2023-10-05', '2023-10-06'],\n",
            "              dtype='datetime64[ns]', freq='D')\n",
            "Index(['A', 'B', 'C', 'D'], dtype='object')\n",
            "========================================\n"
          ]
        }
      ]
    },
    {
      "cell_type": "code",
      "source": [
        "# Selection\n",
        "print(\"Selection:\")\n",
        "print(\"Selecting a column (A):\")\n",
        "print(df['A'])\n",
        "print(\"\\nSelecting by label (row 8):\")\n",
        "print(df.loc[dates[0]])\n",
        "print(\"\\nSelecting by position (row 1):\")\n",
        "print(df.iloc[1])\n",
        "print(\"\\nSelecting a subset of rows and columns:\")\n",
        "print(df.loc [dates [1:3], ['A', 'B']])\n",
        "print(\"=\"*40)"
      ],
      "metadata": {
        "colab": {
          "base_uri": "https://localhost:8080/"
        },
        "id": "OqKe1JlBFyu4",
        "outputId": "721a084e-78b0-4510-a927-3f850db6739c"
      },
      "execution_count": null,
      "outputs": [
        {
          "output_type": "stream",
          "name": "stdout",
          "text": [
            "Selection:\n",
            "Selecting a column (A):\n",
            "2023-10-01    0.469489\n",
            "2023-10-02    0.701466\n",
            "2023-10-03   -1.029723\n",
            "2023-10-04   -0.217975\n",
            "2023-10-05   -0.002008\n",
            "2023-10-06   -0.310360\n",
            "Freq: D, Name: A, dtype: float64\n",
            "\n",
            "Selecting by label (row 8):\n",
            "A    0.469489\n",
            "B    0.794582\n",
            "C    0.534555\n",
            "D   -0.793645\n",
            "Name: 2023-10-01 00:00:00, dtype: float64\n",
            "\n",
            "Selecting by position (row 1):\n",
            "A    0.701466\n",
            "B    0.416296\n",
            "C    0.956801\n",
            "D    1.415470\n",
            "Name: 2023-10-02 00:00:00, dtype: float64\n",
            "\n",
            "Selecting a subset of rows and columns:\n",
            "                   A         B\n",
            "2023-10-02  0.701466  0.416296\n",
            "2023-10-03 -1.029723  0.462663\n",
            "========================================\n"
          ]
        }
      ]
    },
    {
      "cell_type": "code",
      "source": [
        "# Missing Data\n",
        "df1 = df.reindex(index=dates[0:4], columns=list(df.columns) + ['E'])\n",
        "df1.loc[dates[0]:dates[1], 'E'] = 1\n",
        "\n",
        "print(\"Missing Data:\")\n",
        "print(\"DataFrame with missing values:\")\n",
        "print(df1)\n",
        "print(\"\\nDropping rows with missing values:\")\n",
        "print(df1.dropna())\n",
        "print(\"\\nFilling missing values:\")\n",
        "print(df1.fillna(value=0))\n",
        "print(\"=\"*60)"
      ],
      "metadata": {
        "colab": {
          "base_uri": "https://localhost:8080/"
        },
        "id": "5I1xLodcGsWh",
        "outputId": "7d76f928-6e39-4ce6-b04e-26b2119c6c0f"
      },
      "execution_count": null,
      "outputs": [
        {
          "output_type": "stream",
          "name": "stdout",
          "text": [
            "Missing Data:\n",
            "DataFrame with missing values:\n",
            "                   A         B         C         D    E\n",
            "2023-10-01  0.469489  0.794582  0.534555 -0.793645  1.0\n",
            "2023-10-02  0.701466  0.416296  0.956801  1.415470  1.0\n",
            "2023-10-03 -1.029723  0.462663  0.350164  2.039517  NaN\n",
            "2023-10-04 -0.217975  0.660138 -1.561781 -0.024357  NaN\n",
            "\n",
            "Dropping rows with missing values:\n",
            "                   A         B         C         D    E\n",
            "2023-10-01  0.469489  0.794582  0.534555 -0.793645  1.0\n",
            "2023-10-02  0.701466  0.416296  0.956801  1.415470  1.0\n",
            "\n",
            "Filling missing values:\n",
            "                   A         B         C         D    E\n",
            "2023-10-01  0.469489  0.794582  0.534555 -0.793645  1.0\n",
            "2023-10-02  0.701466  0.416296  0.956801  1.415470  1.0\n",
            "2023-10-03 -1.029723  0.462663  0.350164  2.039517  0.0\n",
            "2023-10-04 -0.217975  0.660138 -1.561781 -0.024357  0.0\n",
            "============================================================\n"
          ]
        }
      ]
    },
    {
      "cell_type": "code",
      "source": [
        "# Operations\n",
        "print(\"Operations:\")\n",
        "print(\"Mean of each column:\")\n",
        "print(df.mean())\n",
        "print(\"\\nSum of each row:\")\n",
        "print(df.sum(axis=1))\n",
        "print(\"=\"*40)"
      ],
      "metadata": {
        "colab": {
          "base_uri": "https://localhost:8080/"
        },
        "id": "OJYZ3hRMHBv4",
        "outputId": "e6648a4c-673c-4c69-a0d4-c4b876788348"
      },
      "execution_count": null,
      "outputs": [
        {
          "output_type": "stream",
          "name": "stdout",
          "text": [
            "Operations:\n",
            "Mean of each column:\n",
            "A   -0.064852\n",
            "B    0.469080\n",
            "C   -0.041460\n",
            "D    0.271243\n",
            "dtype: float64\n",
            "\n",
            "Sum of each row:\n",
            "2023-10-01    1.004981\n",
            "2023-10-02    3.490033\n",
            "2023-10-03    1.822621\n",
            "2023-10-04   -1.143975\n",
            "2023-10-05   -0.012292\n",
            "2023-10-06   -1.357295\n",
            "Freq: D, dtype: float64\n",
            "========================================\n"
          ]
        }
      ]
    },
    {
      "cell_type": "code",
      "source": [
        "# Merge\n",
        "left = pd.DataFrame({'key' : ['K0', 'K1', 'K2', 'K3'], 'A': ['A0', 'A1', 'A2', 'A3'], 'B': ['B0', 'B1', 'B2', 'B3']})\n",
        "right = pd.DataFrame({'key' : ['K0', 'K1', 'K2', 'K3'], 'C': ['C0', 'C1', 'C2', 'C3'], 'D': ['D0', 'D1', 'D2', 'D3']})\n",
        "merged_df = pd.merge(left, right, on='key')\n",
        "\n",
        "print(\"Merge:\")\n",
        "print(\"Merged DataFrame:\")\n",
        "print(merged_df)\n",
        "print(\"=\"*40)"
      ],
      "metadata": {
        "colab": {
          "base_uri": "https://localhost:8080/"
        },
        "id": "Mjut2nuvHw0c",
        "outputId": "1a2103cd-b648-49b9-97a7-177b8139e108"
      },
      "execution_count": null,
      "outputs": [
        {
          "output_type": "stream",
          "name": "stdout",
          "text": [
            "Merge:\n",
            "Merged DataFrame:\n",
            "  key   A   B   C   D\n",
            "0  K0  A0  B0  C0  D0\n",
            "1  K1  A1  B1  C1  D1\n",
            "2  K2  A2  B2  C2  D2\n",
            "3  K3  A3  B3  C3  D3\n",
            "========================================\n"
          ]
        }
      ]
    },
    {
      "cell_type": "code",
      "source": [
        "# Grouping\n",
        "grouped = df.groupby('A').sum()\n",
        "print(\"Grouping:\")\n",
        "print(\"Grouped DataFrame:\")\n",
        "print(grouped)\n",
        "print(\"=\"*40)"
      ],
      "metadata": {
        "colab": {
          "base_uri": "https://localhost:8080/"
        },
        "id": "-9GkGSoTHJKU",
        "outputId": "37eab08a-4ed8-4b51-e5b6-7b801dc66a93"
      },
      "execution_count": null,
      "outputs": [
        {
          "output_type": "stream",
          "name": "stdout",
          "text": [
            "Grouping:\n",
            "Grouped DataFrame:\n",
            "                  B         C         D\n",
            "A                                      \n",
            "-1.029723  0.462663  0.350164  2.039517\n",
            "-0.310360  0.038163 -0.128527 -0.956572\n",
            "-0.217975  0.660138 -1.561781 -0.024357\n",
            "-0.002008  0.442638 -0.399970 -0.052953\n",
            " 0.469489  0.794582  0.534555 -0.793645\n",
            " 0.701466  0.416296  0.956801  1.415470\n",
            "========================================\n"
          ]
        }
      ]
    },
    {
      "cell_type": "code",
      "source": [
        "# Reshaping\n",
        "stacked = df.stack()\n",
        "unstacked = stacked.unstack()\n",
        "\n",
        "print(\"Reshaping:\")\n",
        "print(\"Stacked DataFrame:\")\n",
        "print(stacked)\n",
        "print(\"\\nUnstacked DataFrame:\")\n",
        "print(unstacked)\n",
        "print(\"=\"*40)"
      ],
      "metadata": {
        "colab": {
          "base_uri": "https://localhost:8080/"
        },
        "id": "fZv6FaFyKmPV",
        "outputId": "87175644-0807-4644-baa9-50a19b9cbb22"
      },
      "execution_count": null,
      "outputs": [
        {
          "output_type": "stream",
          "name": "stdout",
          "text": [
            "Reshaping:\n",
            "Stacked DataFrame:\n",
            "2023-10-01  A    0.469489\n",
            "            B    0.794582\n",
            "            C    0.534555\n",
            "            D   -0.793645\n",
            "2023-10-02  A    0.701466\n",
            "            B    0.416296\n",
            "            C    0.956801\n",
            "            D    1.415470\n",
            "2023-10-03  A   -1.029723\n",
            "            B    0.462663\n",
            "            C    0.350164\n",
            "            D    2.039517\n",
            "2023-10-04  A   -0.217975\n",
            "            B    0.660138\n",
            "            C   -1.561781\n",
            "            D   -0.024357\n",
            "2023-10-05  A   -0.002008\n",
            "            B    0.442638\n",
            "            C   -0.399970\n",
            "            D   -0.052953\n",
            "2023-10-06  A   -0.310360\n",
            "            B    0.038163\n",
            "            C   -0.128527\n",
            "            D   -0.956572\n",
            "dtype: float64\n",
            "\n",
            "Unstacked DataFrame:\n",
            "                   A         B         C         D\n",
            "2023-10-01  0.469489  0.794582  0.534555 -0.793645\n",
            "2023-10-02  0.701466  0.416296  0.956801  1.415470\n",
            "2023-10-03 -1.029723  0.462663  0.350164  2.039517\n",
            "2023-10-04 -0.217975  0.660138 -1.561781 -0.024357\n",
            "2023-10-05 -0.002008  0.442638 -0.399970 -0.052953\n",
            "2023-10-06 -0.310360  0.038163 -0.128527 -0.956572\n",
            "========================================\n"
          ]
        }
      ]
    },
    {
      "cell_type": "code",
      "source": [
        "# Time Series\n",
        "ts = pd.Series(np.random.randn(1000), index=pd.date_range('2023-01-01', periods=1000))\n",
        "cumulative_sum = ts.cumsum()\n",
        "\n",
        "print(\"Time Series:\")\n",
        "print(ts.head())\n",
        "print(\"\\nCumulative_sum:\")\n",
        "print(cumulative_sum.head())\n",
        "print(\"=\"*40)"
      ],
      "metadata": {
        "colab": {
          "base_uri": "https://localhost:8080/"
        },
        "id": "6uEnNdnbLNsD",
        "outputId": "a84a47a0-4a14-4e28-c343-03831f3316b9"
      },
      "execution_count": null,
      "outputs": [
        {
          "output_type": "stream",
          "name": "stdout",
          "text": [
            "Time Series:\n",
            "2023-01-01    0.962618\n",
            "2023-01-02    0.958574\n",
            "2023-01-03    0.278935\n",
            "2023-01-04    1.500327\n",
            "2023-01-05    0.151726\n",
            "Freq: D, dtype: float64\n",
            "\n",
            "Cumulative_sum:\n",
            "2023-01-01    0.962618\n",
            "2023-01-02    1.921192\n",
            "2023-01-03    2.200126\n",
            "2023-01-04    3.700453\n",
            "2023-01-05    3.852179\n",
            "Freq: D, dtype: float64\n",
            "========================================\n"
          ]
        }
      ]
    },
    {
      "cell_type": "code",
      "source": [
        "# Categories\n",
        "import pandas as pd\n",
        "\n",
        "# Create a categorical series\n",
        "s = pd.Series([\"cat\", \"dog\", \"bird\", \"cat\", \"dog\"], dtype=\"category\")\n",
        "\n",
        "# Define new categories\n",
        "new_categories = [\"Categort 1\", \"Category 2\", \"Category 3\"]\n",
        "\n",
        "# Create a new categorical Series with the new categories\n",
        "s_new = s.cat.set_categories(new_categories)\n",
        "\n",
        "print(\"Categoricals:\")\n",
        "print(\"Original Categorical Series:\")\n",
        "print(s)\n",
        "print(\"\\nNew Categorical Series with updated categories:\")\n",
        "print(s_new)"
      ],
      "metadata": {
        "colab": {
          "base_uri": "https://localhost:8080/"
        },
        "id": "SFnOK3uzL_-S",
        "outputId": "e3927e80-19aa-463a-cc90-983b40c77023"
      },
      "execution_count": null,
      "outputs": [
        {
          "output_type": "stream",
          "name": "stdout",
          "text": [
            "Categoricals:\n",
            "Original Categorical Series:\n",
            "0     cat\n",
            "1     dog\n",
            "2    bird\n",
            "3     cat\n",
            "4     dog\n",
            "dtype: category\n",
            "Categories (3, object): ['bird', 'cat', 'dog']\n",
            "\n",
            "New Categorical Series with updated categories:\n",
            "0    NaN\n",
            "1    NaN\n",
            "2    NaN\n",
            "3    NaN\n",
            "4    NaN\n",
            "dtype: category\n",
            "Categories (3, object): ['Categort 1', 'Category 2', 'Category 3']\n"
          ]
        }
      ]
    },
    {
      "cell_type": "code",
      "source": [
        "import matplotlib.pyplot as plt\n",
        "# Plotting\n",
        "df.plot()\n",
        "plt.show()\n",
        "\n",
        "print(\"Plotting:\")\n",
        "print(\"=\"*40)"
      ],
      "metadata": {
        "colab": {
          "base_uri": "https://localhost:8080/",
          "height": 497
        },
        "id": "T74LqJDwNMp7",
        "outputId": "6783ffe6-596b-43a0-f502-4a08770bf851"
      },
      "execution_count": null,
      "outputs": [
        {
          "output_type": "display_data",
          "data": {
            "text/plain": [
              "<Figure size 640x480 with 1 Axes>"
            ],
            "image/png": "[encoded data removed]"
          },
          "metadata": {}
        },
        {
          "output_type": "stream",
          "name": "stdout",
          "text": [
            "Plotting:\n",
            "========================================\n"
          ]
        }
      ]
    },
    {
      "cell_type": "code",
      "source": [
        "# Importing and Exporting Data\n",
        "imported_df = pd.read_csv('/content/sample_data.csv')\n",
        "\n",
        "print(\"Importing and Exporting Data\")\n",
        "print(\"Exported DataFrame to CSV:\")\n",
        "print(df)\n",
        "print(\"\\nImported DataFrame from CSV:\")\n",
        "print(imported_df)\n",
        "print(\"=\"*40)\n",
        "df.to_csv('sampel_data2.csv')"
      ],
      "metadata": {
        "colab": {
          "base_uri": "https://localhost:8080/"
        },
        "id": "Xo9SVVymNqJn",
        "outputId": "b65f5012-12b8-4f0c-ea82-90e8dbe6be82"
      },
      "execution_count": null,
      "outputs": [
        {
          "output_type": "stream",
          "name": "stdout",
          "text": [
            "Importing and Exporting Data\n",
            "Exported DataFrame to CSV:\n",
            "                   A         B         C         D\n",
            "2023-10-01  0.469489  0.794582  0.534555 -0.793645\n",
            "2023-10-02  0.701466  0.416296  0.956801  1.415470\n",
            "2023-10-03 -1.029723  0.462663  0.350164  2.039517\n",
            "2023-10-04 -0.217975  0.660138 -1.561781 -0.024357\n",
            "2023-10-05 -0.002008  0.442638 -0.399970 -0.052953\n",
            "2023-10-06 -0.310360  0.038163 -0.128527 -0.956572\n",
            "\n",
            "Imported DataFrame from CSV:\n",
            "    SUBJECT Stim1 Stim2  Response\n",
            "0         1     B     D         5\n",
            "1         1     A     B         1\n",
            "2         1     B     C         7\n",
            "3         2     A     C         3\n",
            "4         2     A     B         2\n",
            "5         2     B     C         6\n",
            "6         3     B     C         6\n",
            "7         3     C     D         5\n",
            "8         3     A     B         3\n",
            "9         4     B     D         2\n",
            "10        4     A     D         2\n",
            "11        4     B     C         5\n",
            "12        5     C     D         6\n",
            "13        5     A     D         1\n",
            "14        5     A     B         2\n",
            "15        6     A     B         2\n",
            "16        6     A     D         2\n",
            "17        6     B     D         3\n",
            "18        7     A     D         1\n",
            "19        7     B     D         5\n",
            "20        7     A     B         1\n",
            "21        8     C     D         5\n",
            "22        8     A     C         4\n",
            "23        8     A     B         3\n",
            "24        9     A     D         2\n",
            "25        9     A     B         1\n",
            "26        9     C     D         5\n",
            "27       10     A     C         5\n",
            "28       10     B     C         7\n",
            "29       10     A     B         2\n",
            "========================================\n"
          ]
        }
      ]
    }
  ]
}