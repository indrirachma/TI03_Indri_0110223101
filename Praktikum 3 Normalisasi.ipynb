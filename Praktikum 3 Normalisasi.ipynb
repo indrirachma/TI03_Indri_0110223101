{
  "nbformat": 4,
  "nbformat_minor": 0,
  "metadata": {
    "colab": {
      "provenance": []
    },
    "kernelspec": {
      "name": "python3",
      "display_name": "Python 3"
    },
    "language_info": {
      "name": "python"
    }
  },
  "cells": [
    {
      "cell_type": "code",
      "execution_count": null,
      "metadata": {
        "colab": {
          "base_uri": "https://localhost:8080/"
        },
        "id": "pwKI17avQTC6",
        "outputId": "be285f5f-0736-4803-bf4c-07c74ac6de05"
      },
      "outputs": [
        {
          "output_type": "stream",
          "name": "stdout",
          "text": [
            "Data asli:\n",
            "[[2. 5.]\n",
            " [1. 4.]\n",
            " [3. 6.]]\n",
            "\n",
            "Data setelah Min-Max Scaling:\n",
            "[[0.5 0.5]\n",
            " [0.  0. ]\n",
            " [1.  1. ]]\n"
          ]
        }
      ],
      "source": [
        "import numpy as np\n",
        "from sklearn.preprocessing import MinMaxScaler\n",
        "\n",
        "# Data contoh\n",
        "data = np.array([[2.0, 5.0],\n",
        "                 [1.0, 4.0],\n",
        "                 [3.0, 6.0]])\n",
        "\n",
        "# Inisialisasi objek MinMaxScaler\n",
        "scaler = MinMaxScaler()\n",
        "\n",
        "# Fit and transformasi data menggunakan Min-Max Scaling\n",
        "scaled_data = scaler.fit_transform(data)\n",
        "\n",
        "print(\"Data asli:\")\n",
        "print(data)\n",
        "\n",
        "print(\"\\nData setelah Min-Max Scaling:\")\n",
        "print(scaled_data)"
      ]
    },
    {
      "cell_type": "code",
      "source": [
        "import numpy as np\n",
        "from sklearn.preprocessing import StandardScaler\n",
        "\n",
        "# Data contoh\n",
        "data = np.array([[2.0, 5.0],\n",
        "                 [1.0, 4.0],\n",
        "                 [3.0, 6.0]])\n",
        "\n",
        "# Inisialisasi objek StandardScaler\n",
        "scaler = StandardScaler()\n",
        "\n",
        "# Fit dan transformasi data menggunakan Z-Score Transformation\n",
        "z_score_data = scaler.fit_transform(data)\n",
        "\n",
        "print(\"Data asli:\")\n",
        "print(data)\n",
        "\n",
        "print(\"\\nData setelah Z-Score Transformation:\")\n",
        "print(z_score_data)"
      ],
      "metadata": {
        "colab": {
          "base_uri": "https://localhost:8080/"
        },
        "id": "1EcZwZsERiL4",
        "outputId": "3d813d76-3b5a-4c58-8dfc-2b70de472d3a"
      },
      "execution_count": null,
      "outputs": [
        {
          "output_type": "stream",
          "name": "stdout",
          "text": [
            "Data asli:\n",
            "[[2. 5.]\n",
            " [1. 4.]\n",
            " [3. 6.]]\n",
            "\n",
            "Data setelah Z-Score Transformation:\n",
            "[[ 0.          0.        ]\n",
            " [-1.22474487 -1.22474487]\n",
            " [ 1.22474487  1.22474487]]\n"
          ]
        }
      ]
    },
    {
      "cell_type": "code",
      "source": [
        "import numpy as np\n",
        "\n",
        "# Data contoh\n",
        "data = np.array([200, 300, 400, 500, 600])\n",
        "\n",
        "# Menentukan faktor penggeseran (Scaling Factor),\n",
        "# misalnya 1000 untuk mengubah ke rentang 0-1\n",
        "scaling_factor = 1000\n",
        "\n",
        "# Melakukan transformasi Decimal Scaling\n",
        "scaled_data = data / scaling_factor\n",
        "\n",
        "print(\"Data asli:\")\n",
        "print(data)\n",
        "\n",
        "print(\"\\nData setelah Decimal Scaling:\")\n",
        "print(scaled_data)"
      ],
      "metadata": {
        "colab": {
          "base_uri": "https://localhost:8080/"
        },
        "id": "tNFmOytvSck_",
        "outputId": "34928f90-340c-4edd-b21d-e5dcd0002c92"
      },
      "execution_count": null,
      "outputs": [
        {
          "output_type": "stream",
          "name": "stdout",
          "text": [
            "Data asli:\n",
            "[200 300 400 500 600]\n",
            "\n",
            "Data setelah Decimal Scaling:\n",
            "[0.2 0.3 0.4 0.5 0.6]\n"
          ]
        }
      ]
    }
  ]
}