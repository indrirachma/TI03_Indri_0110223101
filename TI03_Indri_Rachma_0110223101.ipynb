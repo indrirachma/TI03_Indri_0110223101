{
  "nbformat": 4,
  "nbformat_minor": 0,
  "metadata": {
    "colab": {
      "provenance": []
    },
    "kernelspec": {
      "name": "python3",
      "display_name": "Python 3"
    },
    "language_info": {
      "name": "python"
    }
  },
  "cells": [
    {
      "cell_type": "code",
      "execution_count": null,
      "metadata": {
        "colab": {
          "base_uri": "https://localhost:8080/"
        },
        "id": "zfLZDnMyh0-5",
        "outputId": "fa0d8bbb-6a64-4db7-b316-5ecf17811353"
      },
      "outputs": [
        {
          "output_type": "stream",
          "name": "stdout",
          "text": [
            "     Gender  Height  Weight  Index\n",
            "0      Male     174      96      4\n",
            "1      Male     189      87      2\n",
            "2    Female     185     110      4\n",
            "3    Female     195     104      3\n",
            "4      Male     149      61      3\n",
            "..      ...     ...     ...    ...\n",
            "495  Female     150     153      5\n",
            "496  Female     184     121      4\n",
            "497  Female     141     136      5\n",
            "498    Male     150      95      5\n",
            "499    Male     173     131      5\n",
            "\n",
            "[500 rows x 4 columns]\n"
          ]
        }
      ],
      "source": [
        "import pandas as pd\n",
        "\n",
        "# Baca file dan tampilkan seluruh data\n",
        "data_file = ('/content/500_Person_Gender_Height_Weight_Index.csv')\n",
        "data = pd.read_csv(data_file)\n",
        "\n",
        "# Tampilkan seluruh data\n",
        "print(data)"
      ]
    },
    {
      "cell_type": "code",
      "source": [
        "44# Hitung jumlah data berdasarkan Gender\n",
        "jumlah_data = data.groupby('Gender').agg(\n",
        "    Jumlah_Data=('Height', 'count')\n",
        ").reset_index()\n",
        "\n",
        "# Tampilkan hasil\n",
        "print(jumlah_data)"
      ],
      "metadata": {
        "colab": {
          "base_uri": "https://localhost:8080/"
        },
        "id": "tEN1wHxInv2f",
        "outputId": "44cd8c80-d651-4c2c-d4b3-5799531ff113"
      },
      "execution_count": null,
      "outputs": [
        {
          "output_type": "stream",
          "name": "stdout",
          "text": [
            "   Gender  Jumlah_Data\n",
            "0  Female          255\n",
            "1    Male          245\n"
          ]
        }
      ]
    },
    {
      "cell_type": "code",
      "source": [
        "# Hitung rata-rata tinggi dan berat badan berdasarkan Gender\n",
        "rata_rata = data.groupby('Gender').agg(\n",
        "    Rata_Rata_Height=('Height', 'mean'),\n",
        "    Rata_Rata_Weight=('Weight', 'mean')\n",
        ").reset_index()\n",
        "\n",
        "# Tampilkan hasil\n",
        "print(rata_rata)"
      ],
      "metadata": {
        "colab": {
          "base_uri": "https://localhost:8080/"
        },
        "id": "v35aI1fNw3y7",
        "outputId": "f93e772b-e294-4710-9227-9c9ba889f6b2"
      },
      "execution_count": null,
      "outputs": [
        {
          "output_type": "stream",
          "name": "stdout",
          "text": [
            "   Gender  Rata_Rata_Height  Rata_Rata_Weight\n",
            "0  Female        170.227451        105.698039\n",
            "1    Male        169.648980        106.314286\n"
          ]
        }
      ]
    },
    {
      "cell_type": "code",
      "source": [
        "# Hitung nilai maksimum tinggi dan berat badan berdasarkan Gender\n",
        "nilai_max = data.groupby('Gender').agg(\n",
        "    Nilai_Max_Height=('Height', 'max'),\n",
        "    Nilai_Max_Weight=('Weight', 'max')\n",
        ").reset_index()\n",
        "\n",
        "# Tampilkan hasil\n",
        "print(nilai_max)"
      ],
      "metadata": {
        "colab": {
          "base_uri": "https://localhost:8080/"
        },
        "id": "WhOT5ls8xB61",
        "outputId": "7db29241-3530-4ebc-ec19-6bfde31eae81"
      },
      "execution_count": null,
      "outputs": [
        {
          "output_type": "stream",
          "name": "stdout",
          "text": [
            "   Gender  Nilai_Max_Height  Nilai_Max_Weight\n",
            "0  Female               199               160\n",
            "1    Male               199               160\n"
          ]
        }
      ]
    },
    {
      "cell_type": "code",
      "source": [
        "# Hitung nilai minimum tinggi dan berat badan berdasarkan Gender\n",
        "nilai_min = data.groupby('Gender').agg(\n",
        "    Nilai_Min_Height=('Height', 'min'),\n",
        "    Nilai_Min_Weight=('Weight', 'min')\n",
        ").reset_index()\n",
        "\n",
        "# Tampilkan hasil\n",
        "print(nilai_min)"
      ],
      "metadata": {
        "colab": {
          "base_uri": "https://localhost:8080/"
        },
        "id": "ipUQNQYixVjU",
        "outputId": "ddb9e835-bead-4b5c-d9ce-dfb663bd8f0d"
      },
      "execution_count": null,
      "outputs": [
        {
          "output_type": "stream",
          "name": "stdout",
          "text": [
            "   Gender  Nilai_Min_Height  Nilai_Min_Weight\n",
            "0  Female               140                50\n",
            "1    Male               140                50\n"
          ]
        }
      ]
    },
    {
      "cell_type": "code",
      "source": [
        "# Ubah kolom Gender menjadi data binary\n",
        "data['Gender'] = data['Gender'].replace({'Female': 0, 'Male': 1})\n",
        "\n",
        "# Tampilkan data yang telah diperbarui\n",
        "print(data.head())"
      ],
      "metadata": {
        "colab": {
          "base_uri": "https://localhost:8080/"
        },
        "id": "7fmbN5GWyg6H",
        "outputId": "e4a42129-e7b5-4ad2-f64d-2dad5bdbefcd"
      },
      "execution_count": null,
      "outputs": [
        {
          "output_type": "stream",
          "name": "stdout",
          "text": [
            "   Gender  Height  Weight  Index\n",
            "0       1     174      96      4\n",
            "1       1     189      87      2\n",
            "2       0     185     110      4\n",
            "3       0     195     104      3\n",
            "4       1     149      61      3\n"
          ]
        }
      ]
    },
    {
      "cell_type": "code",
      "source": [
        "import seaborn as sns\n",
        "import matplotlib.pyplot as plt\n",
        "\n",
        "# Membuat grafik indeks BMI berdasarkan Gender\n",
        "plt.figure(figsize=(10, 6))\n",
        "sns.countplot(data=data, x='Index', hue='Gender', palette='pastel')\n",
        "\n",
        "# Menambahkan label dan judul\n",
        "plt.title('Distribusi Indeks BMI Berdasarkan Gender')\n",
        "plt.xlabel('Indeks BMI')\n",
        "plt.ylabel('Jumlah')\n",
        "plt.xticks(ticks=range(6), labels=[\n",
        "    'Extremely Weak',\n",
        "    'Weak',\n",
        "    'Normal',\n",
        "    'Overweight',\n",
        "    'Obesity',\n",
        "    'Extreme Obesity'\n",
        "])\n",
        "plt.legend(title='Gender', labels=['Female (0)', 'Male (1)'])\n",
        "plt.show()"
      ],
      "metadata": {
        "colab": {
          "base_uri": "https://localhost:8080/",
          "height": 564
        },
        "id": "dzkt1WtXytbJ",
        "outputId": "5be7ed30-2034-4ef7-8681-b73466ab2e39"
      },
      "execution_count": null,
      "outputs": [
        {
          "output_type": "display_data",
          "data": {
            "text/plain": [
              "<Figure size 1000x600 with 1 Axes>"
            ],
            "image/png": "[encoded data removed]"
          },
          "metadata": {}
        }
      ]
    }
  ]
}